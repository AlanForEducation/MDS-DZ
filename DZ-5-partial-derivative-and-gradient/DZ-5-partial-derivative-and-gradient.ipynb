{
 "cells": [
  {
   "cell_type": "code",
   "execution_count": 371,
   "metadata": {},
   "outputs": [],
   "source": [
    "import numpy as np\n",
    "from scipy.optimize import approx_fprime\n",
    "from scipy.optimize import minimize"
   ]
  },
  {
   "cell_type": "markdown",
   "metadata": {},
   "source": [
    "## Задание 1:\n",
    "Посчитайте частные производные функций (как обычно, необходимо решение на бумажке или в LaTeX и на scipy):\n",
    "\n",
    "1) $f(x,y)=2x^2y^3 + 1/x + y^2x + 7$, а для этой функции также градиент в точке $(1,2)$\n",
    "\n",
    "2) $f(x,y)=x^2y - sin(xy) + cos(x^2) + 6y$"
   ]
  },
  {
   "cell_type": "markdown",
   "metadata": {},
   "source": [
    "### Функция 1\n",
    "\n",
    "**Найдем частные производные:** \n",
    "\n",
    "\n",
    "$f'_{x} = 4xy^3 - 1/x^2 + y^2$   \n",
    "$f'_{y} = 6x^2y^2 + 2yx$\n",
    "\n",
    "**Градиент функции** - это вектор их частных производных:  \n",
    "$grad\\Big(f(x,y)\\Big) = \\Big(f'_{x}, \\; f'_{y}\\Big)$\n",
    "\n",
    "$grad\\Big(f(x,y)\\Big) = \\Big(4xy^3 - 1/x^2 + y^2, \\; 6x^2y^2 + 2yx\\Big)$\n",
    "\n",
    "**Градиент в точке:**\n",
    "$M(1,2)$\n",
    "\n",
    "$grad\\Big(f(x,y)\\Big)\\Big|_{M} = \\Big(4\\cdot1\\cdot{2}^3 - \\frac{1}{1^2} + 2^2 ; \\;\\; 6\\cdot1^2\\cdot2^2 + 2\\cdot2\\cdot1 \\Big) $\n",
    "\n",
    "$grad\\Big(f(x,y)\\Big)\\Big|_{M} = \\Big(32-1+4 ; \\;\\; 24 + 4 \\Big) $\n",
    "\n",
    "$grad\\Big(f(x,y)\\Big)\\Big|_{M} = \\Big(35 ; \\; 28 \\Big) $"
   ]
  },
  {
   "cell_type": "markdown",
   "metadata": {},
   "source": [
    "**Вычисление градиента с помощью scipy**\n",
    "\n",
    "$f(x,y)=2x^2y^3 + 1/x + y^2x + 7$, градиент в точке $(1,2)$"
   ]
  },
  {
   "cell_type": "code",
   "execution_count": 372,
   "metadata": {},
   "outputs": [],
   "source": [
    "def func(x, c0, c1, c2):\n",
    "    return c0*(x[0]**2)*(x[1]**3) + c1*(1 / x[0]) + c2*(x[1]**2)*x[0] + 7"
   ]
  },
  {
   "cell_type": "code",
   "execution_count": 373,
   "metadata": {},
   "outputs": [
    {
     "data": {
      "text/plain": [
       "array([35.00000024, 28.00000036])"
      ]
     },
     "execution_count": 373,
     "metadata": {},
     "output_type": "execute_result"
    }
   ],
   "source": [
    "# коэффициенты из функции\n",
    "c0, c1, c2 = (2,1,1)\n",
    "\n",
    "# точка х\n",
    "x = np.array((1,2))\n",
    "\n",
    "approx_fprime(x, func, [0.01**10, 0.01**10], c0, c1, c2)"
   ]
  },
  {
   "cell_type": "markdown",
   "metadata": {},
   "source": [
    "### Функция 2\n",
    "\n",
    "**Найдем частные производные:** \n",
    "\n",
    "\n",
    "$f'_{x} = 2xy - cos(x,y)\\cdot{y} - sin(x^2)\\cdot{2x}$   \n",
    "$f'_{y} = x^2 - cos(x,y)\\cdot{x} -sin(x^2)\\cdot0 + 6 = x^2 - cos(x,y)\\cdot{x} + 6$\n",
    "\n",
    "**Градиент функции** - это вектор их частных производных:  \n",
    "$grad\\Big(f(x,y)\\Big) = \\Big(f'_{x}, \\; f'_{y}\\Big)$\n",
    "\n",
    "$grad\\Big(f(x,y)\\Big) = \\Big(2xy - cos(x,y)\\cdot{y} - sin(x^2)\\cdot{2x}; \\;\\;  x^2 - cos(x,y)\\cdot{x} + 6\\Big)$\n"
   ]
  },
  {
   "cell_type": "markdown",
   "metadata": {},
   "source": [
    "## Задание 2:"
   ]
  },
  {
   "cell_type": "markdown",
   "metadata": {},
   "source": [
    "**Градиентный спуск своими руками**"
   ]
  },
  {
   "cell_type": "code",
   "execution_count": 374,
   "metadata": {},
   "outputs": [],
   "source": [
    "def f(x):\n",
    "    return x[0]**2 + x[1]**2"
   ]
  },
  {
   "cell_type": "code",
   "execution_count": 375,
   "metadata": {
    "scrolled": false
   },
   "outputs": [],
   "source": [
    "x = np.array([100.0,200.0])\n",
    "\n",
    "dx = []\n",
    "dy = []\n",
    "\n",
    "for i in range(100):\n",
    "    \n",
    "    grad = 2 * x        \n",
    "    x[0] = x[0] - 0.1 * grad[0]\n",
    "    x[1] = x[1] - 0.1 * grad[1]\n",
    "    \n",
    "\n",
    "#   Когда градиент практически равен 0, останавливаем рассчеты\n",
    "    if (grad[0]) < 0.0001 and (grad[1] < 0.0001):\n",
    "        break\n",
    "    "
   ]
  },
  {
   "cell_type": "code",
   "execution_count": 376,
   "metadata": {},
   "outputs": [
    {
     "name": "stdout",
     "output_type": "stream",
     "text": [
      "Минимум достигается в:  [1.64550456e-05 3.29100911e-05]\n",
      "Значение функции в минимуме:  1.3538426240824304e-09\n",
      "Выполенено за 69 проходов\n"
     ]
    }
   ],
   "source": [
    "print(\"Минимум достигается в: \", x)\n",
    "print(\"Значение функции в минимуме: \", f(x))\n",
    "print(f\"Выполенено за {i} проходов\")"
   ]
  },
  {
   "cell_type": "markdown",
   "metadata": {},
   "source": [
    "**Проверка с помощью встроенной функции numpy:**"
   ]
  },
  {
   "cell_type": "code",
   "execution_count": 377,
   "metadata": {
    "scrolled": true
   },
   "outputs": [
    {
     "name": "stdout",
     "output_type": "stream",
     "text": [
      "Минимум достигается в:  [ 3.12645005e-05 -2.53507530e-05]\n",
      "Значение функции в минимуме:  1.620129666631487e-09\n"
     ]
    }
   ],
   "source": [
    "res = minimize(f, [100,200], method='nelder-mead')\n",
    "\n",
    "print(\"Минимум достигается в: \",res['x'] )\n",
    "print(\"Значение функции в минимуме: \", res['fun'])"
   ]
  },
  {
   "cell_type": "code",
   "execution_count": 378,
   "metadata": {},
   "outputs": [
    {
     "data": {
      "text/plain": [
       "array([1.64550455e-05, 1.64550455e-05])"
      ]
     },
     "execution_count": 378,
     "metadata": {},
     "output_type": "execute_result"
    }
   ],
   "source": [
    "np.gradient([1.64550456e-05, 3.29100911e-05])"
   ]
  }
 ],
 "metadata": {
  "kernelspec": {
   "display_name": "Python 3",
   "language": "python",
   "name": "python3"
  },
  "language_info": {
   "codemirror_mode": {
    "name": "ipython",
    "version": 3
   },
   "file_extension": ".py",
   "mimetype": "text/x-python",
   "name": "python",
   "nbconvert_exporter": "python",
   "pygments_lexer": "ipython3",
   "version": "3.8.5"
  }
 },
 "nbformat": 4,
 "nbformat_minor": 4
}
