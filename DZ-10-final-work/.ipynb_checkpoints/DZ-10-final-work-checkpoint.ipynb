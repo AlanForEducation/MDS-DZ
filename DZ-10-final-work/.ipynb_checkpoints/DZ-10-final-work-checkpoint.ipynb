{
 "cells": [
  {
   "cell_type": "markdown",
   "metadata": {},
   "source": [
    "## Итоговая работа."
   ]
  },
  {
   "cell_type": "code",
   "execution_count": 1,
   "metadata": {},
   "outputs": [],
   "source": [
    "import matplotlib.pyplot as plt\n",
    "import numpy as np\n",
    "\n",
    "from scipy.optimize import minimize"
   ]
  },
  {
   "cell_type": "markdown",
   "metadata": {},
   "source": [
    "### Задание 1\n",
    "Дана матрица рейтингов фильмов (строки - пользователи (10 человек), столбцы - фильмы (15 фильмов))"
   ]
  },
  {
   "cell_type": "code",
   "execution_count": 2,
   "metadata": {},
   "outputs": [],
   "source": [
    "raitings = np.array([[ 4,  4,  9,  4,  1,  6, 10,  7,  9,  6,  9,  2,  8,  6,  6],\n",
    "                     [ 9,  2,  5, 10,  7,  8, 10,  5,  6,  2,  1,  6,  8,  9,  7],\n",
    "                     [ 1,  6,  8,  8,  4,  9,  3,  8, 10,  5,  2,  6,  8,  1,  6],\n",
    "                     [ 6,  1,  9,  7,  7,  9,  2,  3,  5,  1,  6,  6,  3,  2,  7],\n",
    "                     [ 3,  7,  3,  5,  7,  9,  9,  6,  2,  9,  1,  2,  8, 10,  6],\n",
    "                     [ 8,  3,  7,  3,  8,  6,  1,  8,  8,  6,  1,  9,  4, 10,  1],\n",
    "                     [ 9,  8,  4,  8,  8, 10,  6,  1,  1,  2,  9,  5,  2,  7,  2],\n",
    "                     [ 4,  1,  6,  4,  3, 10,  4,  4,  2,  8,  7,  9,  3,  8,  3],\n",
    "                     [ 2,  7,  7,  6, 10,  6,  8,  9,  8,  6, 10,  1,  7, 10,  4],\n",
    "                     [ 5, 10,  8,  8,  9,  7,  2,  9,  9, 10,  8,  8,  8,  6, 10]])"
   ]
  },
  {
   "cell_type": "markdown",
   "metadata": {},
   "source": [
    "a) Необходимо найти наиболее похожего пользователя по косинусной метрике для каждого из (ответ: 10 пар вида (x, y), где y - наиболее похожий пользователь на пользователя x).\n",
    "\n",
    "b) Предположим, вы захотели сжать признаковые описания пользователя с 15 фильмов, до, скажем, 5-ти признаков, как вы это сделаете?"
   ]
  },
  {
   "cell_type": "markdown",
   "metadata": {},
   "source": [
    "#### Решение части А"
   ]
  },
  {
   "cell_type": "code",
   "execution_count": 49,
   "metadata": {},
   "outputs": [],
   "source": [
    "similar_users = []\n",
    "\n",
    "# Принимаем каждого пользователя за x \n",
    "for i, x in enumerate(raitings):\n",
    "    \n",
    "    x = raitings[i]\n",
    "    cos_max = -2 # задаем косинус для первой проверки  = -2, так как такого косинуса не бывает и любой будет больше\n",
    "    y_max = []   # в эту переменную будет записываться вектор y наиболее близкий к x\n",
    "    \n",
    "# Принимаем каждого пользователя за y (кроме того, которого уже приняли за x) и находим косинус угла между x и y\n",
    "# Чем больше косинус, тем более похожи пользователи\n",
    "    for j, y in enumerate(raitings):\n",
    "        \n",
    "        if i != j:\n",
    "            y = raitings[j]\n",
    "            \n",
    "        else:\n",
    "            continue\n",
    "            \n",
    "        dot = np.dot(x,y)\n",
    "        len_x = np.linalg.norm(x)\n",
    "        len_y = np.linalg.norm(y)\n",
    "        cos_xy = dot / (len_x * len_y)\n",
    "\n",
    "        if cos_xy > cos_max:\n",
    "            \n",
    "            cos_max = cos_xy\n",
    "            y_max = y\n",
    "              \n",
    "    similar_users += [[x, y_max, cos_max]]"
   ]
  },
  {
   "cell_type": "code",
   "execution_count": 50,
   "metadata": {
    "scrolled": true
   },
   "outputs": [
    {
     "name": "stdout",
     "output_type": "stream",
     "text": [
      "На пользователя:\n",
      "[ 4  4  9  4  1  6 10  7  9  6  9  2  8  6  6]\n",
      "Наиболее похож пользователь:\n",
      "[ 2  7  7  6 10  6  8  9  8  6 10  1  7 10  4]\n",
      "------------------------------------------------ косинус угла 0.911\n",
      "На пользователя:\n",
      "[ 9  2  5 10  7  8 10  5  6  2  1  6  8  9  7]\n",
      "Наиболее похож пользователь:\n",
      "[ 3  7  3  5  7  9  9  6  2  9  1  2  8 10  6]\n",
      "------------------------------------------------ косинус угла 0.871\n",
      "На пользователя:\n",
      "[ 1  6  8  8  4  9  3  8 10  5  2  6  8  1  6]\n",
      "Наиболее похож пользователь:\n",
      "[ 5 10  8  8  9  7  2  9  9 10  8  8  8  6 10]\n",
      "------------------------------------------------ косинус угла 0.919\n",
      "На пользователя:\n",
      "[6 1 9 7 7 9 2 3 5 1 6 6 3 2 7]\n",
      "Наиболее похож пользователь:\n",
      "[ 5 10  8  8  9  7  2  9  9 10  8  8  8  6 10]\n",
      "------------------------------------------------ косинус угла 0.859\n",
      "На пользователя:\n",
      "[ 3  7  3  5  7  9  9  6  2  9  1  2  8 10  6]\n",
      "Наиболее похож пользователь:\n",
      "[ 2  7  7  6 10  6  8  9  8  6 10  1  7 10  4]\n",
      "------------------------------------------------ косинус угла 0.879\n",
      "На пользователя:\n",
      "[ 8  3  7  3  8  6  1  8  8  6  1  9  4 10  1]\n",
      "Наиболее похож пользователь:\n",
      "[ 5 10  8  8  9  7  2  9  9 10  8  8  8  6 10]\n",
      "------------------------------------------------ косинус угла 0.855\n",
      "На пользователя:\n",
      "[ 9  8  4  8  8 10  6  1  1  2  9  5  2  7  2]\n",
      "Наиболее похож пользователь:\n",
      "[6 1 9 7 7 9 2 3 5 1 6 6 3 2 7]\n",
      "------------------------------------------------ косинус угла 0.833\n",
      "На пользователя:\n",
      "[ 4  1  6  4  3 10  4  4  2  8  7  9  3  8  3]\n",
      "Наиболее похож пользователь:\n",
      "[ 8  3  7  3  8  6  1  8  8  6  1  9  4 10  1]\n",
      "------------------------------------------------ косинус угла 0.845\n",
      "На пользователя:\n",
      "[ 2  7  7  6 10  6  8  9  8  6 10  1  7 10  4]\n",
      "Наиболее похож пользователь:\n",
      "[ 4  4  9  4  1  6 10  7  9  6  9  2  8  6  6]\n",
      "------------------------------------------------ косинус угла 0.911\n",
      "На пользователя:\n",
      "[ 5 10  8  8  9  7  2  9  9 10  8  8  8  6 10]\n",
      "Наиболее похож пользователь:\n",
      "[ 1  6  8  8  4  9  3  8 10  5  2  6  8  1  6]\n",
      "------------------------------------------------ косинус угла 0.919\n"
     ]
    }
   ],
   "source": [
    "# Ответ на Часть А\n",
    "for users in similar_users:\n",
    "    print('На пользователя:')\n",
    "    print(users[0])\n",
    "    print('Наиболее похож пользователь:')\n",
    "    print(users[1])\n",
    "    print(f'------------------------------------------------ косинус угла {round(users[2],3)}')"
   ]
  },
  {
   "cell_type": "markdown",
   "metadata": {},
   "source": [
    "#### Решение части В"
   ]
  },
  {
   "cell_type": "code",
   "execution_count": 61,
   "metadata": {},
   "outputs": [
    {
     "data": {
      "text/plain": [
       "1.2455442696728185"
      ]
     },
     "execution_count": 61,
     "metadata": {},
     "output_type": "execute_result"
    }
   ],
   "source": [
    "# Сжатие методом главных компонентов\n",
    "from sklearn.decomposition import PCA\n",
    "from sklearn.metrics import mean_squared_error\n",
    "pca = PCA(n_components=5)\n",
    "\n",
    "trans = pca.fit_transform(raitings)\n",
    "res = pca.inverse_transform(trans)\n",
    "err = mean_squared_error(raitings, res)\n",
    "err"
   ]
  },
  {
   "cell_type": "code",
   "execution_count": 62,
   "metadata": {},
   "outputs": [
    {
     "data": {
      "text/plain": [
       "1.7820060849297668"
      ]
     },
     "execution_count": 62,
     "metadata": {},
     "output_type": "execute_result"
    }
   ],
   "source": [
    "# Сингулярное разложение\n",
    "from sklearn.decomposition import TruncatedSVD\n",
    "\n",
    "svd = TruncatedSVD(n_components=5)\n",
    "\n",
    "trans = svd.fit_transform(raitings)\n",
    "res = svd.inverse_transform(trans)\n",
    "err = mean_squared_error(raitings, res)\n",
    "err"
   ]
  },
  {
   "cell_type": "markdown",
   "metadata": {},
   "source": [
    "#### В данном случае лучше подходит сжатие методом главных компонентов, так как при после него при восстановлении теряется меньше данных"
   ]
  },
  {
   "cell_type": "markdown",
   "metadata": {},
   "source": [
    "### Задание 2\n",
    "Вычислите производную $tg^2(sin(x) + cos(2x+3))$ в точке $x_0=1$ (на python и на бумаге)."
   ]
  },
  {
   "cell_type": "code",
   "execution_count": 65,
   "metadata": {},
   "outputs": [],
   "source": [
    "from scipy.misc import derivative"
   ]
  },
  {
   "cell_type": "code",
   "execution_count": 66,
   "metadata": {},
   "outputs": [],
   "source": [
    "def f(x):\n",
    "    return (np.tan(np.sin(x) + np.cos(2*x + 3))) ** 2"
   ]
  },
  {
   "cell_type": "code",
   "execution_count": 75,
   "metadata": {},
   "outputs": [
    {
     "name": "stdout",
     "output_type": "stream",
     "text": [
      "Производная функции в точке x = 1: 55.3859\n"
     ]
    }
   ],
   "source": [
    "d1 = derivative(f, 1, dx=1e-6, n=1)\n",
    "print(f'Производная функции в точке x = 1: {round(d1, 4)}')"
   ]
  },
  {
   "cell_type": "markdown",
   "metadata": {},
   "source": [
    "<img src='task-2.jpg'>"
   ]
  },
  {
   "cell_type": "markdown",
   "metadata": {},
   "source": [
    "### Задание 3\n",
    "Дана функция с неизвестными параметрами a и b, вам также известны значения функции fx в точках x. Найдите оптимальные параметры a, b, минимизирующие абсолютную ошибку error."
   ]
  },
  {
   "cell_type": "code",
   "execution_count": 135,
   "metadata": {},
   "outputs": [],
   "source": [
    "def f(x, a, b):\n",
    "    return np.e**a * np.sin(b*x) + x"
   ]
  },
  {
   "cell_type": "code",
   "execution_count": 136,
   "metadata": {},
   "outputs": [],
   "source": [
    "x = np.array([0.        , 0.26315789, 0.52631579, 0.78947368, 1.05263158,\n",
    "              1.31578947, 1.57894737, 1.84210526, 2.10526316, 2.36842105,\n",
    "              2.63157895, 2.89473684, 3.15789474, 3.42105263, 3.68421053,\n",
    "              3.94736842, 4.21052632, 4.47368421, 4.73684211, 5.        ])"
   ]
  },
  {
   "cell_type": "code",
   "execution_count": 137,
   "metadata": {},
   "outputs": [],
   "source": [
    "fx = np.array([  0.        , -12.01819092, -18.90968634, -17.68786571,\n",
    "                -8.7529108 ,   4.27524517,  16.06801336,  21.81250213,\n",
    "                19.22059845,   9.48411207,  -3.22273056, -13.48576488,\n",
    "               -16.91096359, -11.95866834,  -0.58630088,  12.56873816,\n",
    "                22.12489421,  24.20292139,  18.04522521,   6.33211092])"
   ]
  },
  {
   "cell_type": "code",
   "execution_count": 6,
   "metadata": {},
   "outputs": [
    {
     "data": {
      "image/png": "[encoded data removed]",
      "text/plain": [
       "<Figure size 432x288 with 1 Axes>"
      ]
     },
     "metadata": {
      "needs_background": "light"
     },
     "output_type": "display_data"
    }
   ],
   "source": [
    "plt.plot(x, fx)\n",
    "plt.show()"
   ]
  },
  {
   "cell_type": "code",
   "execution_count": 138,
   "metadata": {},
   "outputs": [],
   "source": [
    "def error(params):\n",
    "    return np.sum(np.abs(fx - f(x, params[0], params[1])))"
   ]
  },
  {
   "cell_type": "code",
   "execution_count": 112,
   "metadata": {},
   "outputs": [],
   "source": [
    "from scipy.optimize import differential_evolution"
   ]
  },
  {
   "cell_type": "code",
   "execution_count": 210,
   "metadata": {},
   "outputs": [
    {
     "data": {
      "text/plain": [
       "     fun: 2.7331489961923694e-05\n",
       " message: 'Optimization terminated successfully.'\n",
       "    nfev: 2400\n",
       "     nit: 77\n",
       " success: True\n",
       "       x: array([ 3.        , 45.25220833])"
      ]
     },
     "execution_count": 210,
     "metadata": {},
     "output_type": "execute_result"
    }
   ],
   "source": [
    "bounds = [(-1, 100), (0, 100)]\n",
    "differential_evolution(error, bounds)"
   ]
  },
  {
   "cell_type": "code",
   "execution_count": 211,
   "metadata": {},
   "outputs": [],
   "source": [
    "a = differential_evolution(error, bounds).x[0]\n",
    "b = differential_evolution(error, bounds).x[1]\n",
    "params = differential_evolution(error, bounds).x\n",
    "y = (f(x, a, b))"
   ]
  },
  {
   "cell_type": "code",
   "execution_count": 212,
   "metadata": {},
   "outputs": [
    {
     "data": {
      "text/plain": [
       "[<matplotlib.lines.Line2D at 0x229bb1c3460>]"
      ]
     },
     "execution_count": 212,
     "metadata": {},
     "output_type": "execute_result"
    },
    {
     "data": {
      "image/png": "[encoded data removed]",
      "text/plain": [
       "<Figure size 1152x504 with 1 Axes>"
      ]
     },
     "metadata": {
      "needs_background": "light"
     },
     "output_type": "display_data"
    }
   ],
   "source": [
    "plt.figure(figsize=(16,7))\n",
    "plt.plot(x, fx, '-')\n",
    "plt.plot(x, y, 'r-.')"
   ]
  },
  {
   "cell_type": "code",
   "execution_count": 213,
   "metadata": {},
   "outputs": [
    {
     "data": {
      "text/plain": [
       "2.7301162051962535e-05"
      ]
     },
     "execution_count": 213,
     "metadata": {},
     "output_type": "execute_result"
    }
   ],
   "source": [
    "error(params)"
   ]
  },
  {
   "cell_type": "markdown",
   "metadata": {},
   "source": [
    "### Задание 4\n",
    "Создайте собственную дискретную случайную величину с 20 значениями. Сгенерируйте 1000 выборок размера 50. Посчитайте среднее для каждой выборки. Постройте гистограмму распределения средних."
   ]
  },
  {
   "cell_type": "code",
   "execution_count": 96,
   "metadata": {},
   "outputs": [
    {
     "data": {
      "text/plain": [
       "(array([  1.,   1.,   8.,  13.,  31.,  42.,  64.,  86., 111., 123., 148.,\n",
       "        121.,  87.,  64.,  49.,  26.,  13.,   8.,   0.,   4.]),\n",
       " array([ 7.72 ,  7.996,  8.272,  8.548,  8.824,  9.1  ,  9.376,  9.652,\n",
       "         9.928, 10.204, 10.48 , 10.756, 11.032, 11.308, 11.584, 11.86 ,\n",
       "        12.136, 12.412, 12.688, 12.964, 13.24 ]),\n",
       " <BarContainer object of 20 artists>)"
      ]
     },
     "execution_count": 96,
     "metadata": {},
     "output_type": "execute_result"
    },
    {
     "data": {
      "image/png": "[encoded data removed]",
      "text/plain": [
       "<Figure size 1224x504 with 1 Axes>"
      ]
     },
     "metadata": {
      "needs_background": "light"
     },
     "output_type": "display_data"
    }
   ],
   "source": [
    "mean_list = []\n",
    "for i in range(1000):\n",
    "    \n",
    "    numbers = np.random.randint(1, 21, size=50)\n",
    "    mean_list += [np.mean(numbers)]\n",
    "plt.figure(figsize=(17, 7))    \n",
    "plt.hist(mean_list, bins=20)"
   ]
  },
  {
   "cell_type": "markdown",
   "metadata": {},
   "source": [
    "### Задание 5\n",
    "Найдите собственные значения и собственные вектора матрицы (на python и на бумаге):"
   ]
  },
  {
   "cell_type": "code",
   "execution_count": 214,
   "metadata": {},
   "outputs": [
    {
     "name": "stdout",
     "output_type": "stream",
     "text": [
      "[[1 4]\n",
      " [1 1]]\n"
     ]
    }
   ],
   "source": [
    "m = np.array([[1, 4],\n",
    "              [1, 1]])\n",
    "print(m)"
   ]
  },
  {
   "cell_type": "code",
   "execution_count": 215,
   "metadata": {},
   "outputs": [
    {
     "name": "stdout",
     "output_type": "stream",
     "text": [
      "Собственные значения: [ 3. -1.]\n",
      "Собственные вектора:\n",
      "[[ 0.89442719 -0.89442719]\n",
      " [ 0.4472136   0.4472136 ]]\n"
     ]
    }
   ],
   "source": [
    "w, v = np.linalg.eig(m)\n",
    "\n",
    "print(f'Собственные значения: {w}')\n",
    "print(f'Собственные вектора:')\n",
    "print(v)"
   ]
  },
  {
   "cell_type": "markdown",
   "metadata": {},
   "source": [
    "<img src='task5.jpg'>"
   ]
  }
 ],
 "metadata": {
  "kernelspec": {
   "display_name": "Python 3",
   "language": "python",
   "name": "python3"
  },
  "language_info": {
   "codemirror_mode": {
    "name": "ipython",
    "version": 3
   },
   "file_extension": ".py",
   "mimetype": "text/x-python",
   "name": "python",
   "nbconvert_exporter": "python",
   "pygments_lexer": "ipython3",
   "version": "3.8.5"
  }
 },
 "nbformat": 4,
 "nbformat_minor": 4
}
