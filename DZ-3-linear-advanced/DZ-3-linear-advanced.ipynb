{
 "cells": [
  {
   "cell_type": "code",
   "execution_count": 6,
   "metadata": {},
   "outputs": [],
   "source": [
    "import numpy as np"
   ]
  },
  {
   "cell_type": "markdown",
   "metadata": {},
   "source": [
    "### Уровень 0:\n",
    "Придумайте матрицы, которые обладают следующими свойствами:\n",
    "\n",
    "a) Диагональная, ортогональная, но не единичная(!)\n",
    "\n",
    "b) Верхнетреугольная, ортогональная\n",
    "\n",
    "c) Нижнетреугольная, ортогональная\n",
    "\n",
    "d) Матрица, у которой определитель = 1, и все элементы не равны 0\n",
    "\n",
    "P.S. Во всех пунктах ответом должна быть ненулевая матрица размерности не менее 2!\n",
    "\n",
    "Найдите собственные значения и собственные вектора матриц:  \n",
    "m = np.array([[2, 2], [1, 3]])"
   ]
  },
  {
   "cell_type": "markdown",
   "metadata": {},
   "source": [
    "Условия ортогональности:\n",
    "    \n",
    "    Сумма квадратов строк должна быть равна 1\n",
    "    Сумма произведений столбцов должна быть равна 0\n",
    "    \n",
    "[Источник](https://ru.qaz.wiki/wiki/Orthogonal_matrix)"
   ]
  },
  {
   "cell_type": "code",
   "execution_count": 7,
   "metadata": {},
   "outputs": [
    {
     "name": "stdout",
     "output_type": "stream",
     "text": [
      "[[1 0 0]\n",
      " [0 1 0]\n",
      " [0 0 1]]\n"
     ]
    }
   ],
   "source": [
    "# a) Диагональная, ортогональная, но не единичная(!)\n",
    "\n",
    "# Диагональная ортогональная матрица возможна только в том случае, когда на диагонали все элементы по модулю равны 1\n",
    "# Чтобы соответсвовала услоивию, НЕ единичная, используем -1\n",
    "D = np.array([\n",
    "    [-1,0,0],\n",
    "    [0,-1,0],\n",
    "    [0,0,-1]\n",
    "])\n",
    "\n",
    "C = np.dot(D, D.transpose())\n",
    "print(C)"
   ]
  },
  {
   "cell_type": "code",
   "execution_count": 8,
   "metadata": {},
   "outputs": [
    {
     "name": "stdout",
     "output_type": "stream",
     "text": [
      "[[1 0 0]\n",
      " [0 1 0]\n",
      " [0 0 1]]\n"
     ]
    }
   ],
   "source": [
    "# b) Верхнетреугольная, ортогональная\n",
    "\n",
    "\n",
    "D = np.array([\n",
    "    [1,0,0],\n",
    "    [0,1,0],\n",
    "    [0,0,1]\n",
    "])\n",
    "\n",
    "C = np.dot(D, D.transpose())\n",
    "print(C)"
   ]
  },
  {
   "cell_type": "code",
   "execution_count": 9,
   "metadata": {},
   "outputs": [
    {
     "name": "stdout",
     "output_type": "stream",
     "text": [
      "[[1 0 0 0]\n",
      " [0 1 0 0]\n",
      " [0 0 1 0]\n",
      " [0 0 0 1]]\n"
     ]
    }
   ],
   "source": [
    "# c) Нижнетреугольная, ортогональная\n",
    "\n",
    "D = np.array([\n",
    "    [1,0,0,0],\n",
    "    [0,1,0,0],\n",
    "    [0,0,1,0],\n",
    "    [0,0,0,1]\n",
    "])\n",
    "\n",
    "C = np.dot(D, D.transpose())\n",
    "print(C)"
   ]
  },
  {
   "cell_type": "code",
   "execution_count": 10,
   "metadata": {},
   "outputs": [
    {
     "name": "stdout",
     "output_type": "stream",
     "text": [
      "0.9999999999999987\n",
      "1\n"
     ]
    }
   ],
   "source": [
    "# d) Матрица, у которой определитель = 1, и все элементы не равны 0\n",
    "\n",
    "m = np.array([[5, 3],\n",
    "              [3, 2]])\n",
    "\n",
    "print(np.linalg.det(m))\n",
    "print(round(np.linalg.det(m)))"
   ]
  },
  {
   "cell_type": "code",
   "execution_count": 11,
   "metadata": {},
   "outputs": [],
   "source": [
    "import matplotlib.pyplot as plt"
   ]
  },
  {
   "cell_type": "code",
   "execution_count": 22,
   "metadata": {
    "scrolled": false
   },
   "outputs": [
    {
     "name": "stdout",
     "output_type": "stream",
     "text": [
      "Собственные значения: [2.28077641 0.21922359]\n",
      "Собственные вектора:\n",
      "[[ 0.78820544 -0.61541221]\n",
      " [ 0.61541221  0.78820544]]\n"
     ]
    },
    {
     "data": {
      "text/plain": [
       "(-300.0, 300.0)"
      ]
     },
     "execution_count": 22,
     "metadata": {},
     "output_type": "execute_result"
    },
    {
     "data": {
      "image/png": "[encoded data removed]",
      "text/plain": [
       "<Figure size 432x288 with 1 Axes>"
      ]
     },
     "metadata": {
      "needs_background": "light"
     },
     "output_type": "display_data"
    }
   ],
   "source": [
    "# Найдите собственные значения и собственные вектора матрицы\n",
    "\n",
    "m = np.array([[1.5, 1],\n",
    "              [1, 1]\n",
    "              ])\n",
    "\n",
    "w, v = np.linalg.eig(m)\n",
    "\n",
    "print(f'Собственные значения: {w}')\n",
    "print(f'Собственные вектора:')\n",
    "print(v)\n",
    "\n",
    "# Посмотрим как наша матрица отражает объект, для этого воспользуемся объектом из прошлого урока\n",
    "\n",
    "A = [\n",
    "[-100, -100],\n",
    "[-100, 100],\n",
    "[100, 100],\n",
    "[0, 0],\n",
    "[100, -100],\n",
    "[-100, -100]\n",
    "]\n",
    "\n",
    "A = np.array(A)\n",
    "\n",
    "# Умножим объект на отображение и визуализируем результат\n",
    "C = np.dot(A,m)\n",
    "x = C[:,0]\n",
    "y = C[:,1]\n",
    "plt.plot(x,y)\n",
    "\n",
    "\n",
    "# Первый вектор\n",
    "x = [0, v[0,0]*100]\n",
    "y = [0, v[1,0]*100]\n",
    "plt.plot(x,y, c='r')\n",
    "\n",
    "# Второй вектор\n",
    "x = [0, v[0,1]*100]\n",
    "y = [0, v[1,1]*100]\n",
    "plt.plot(x,y, c='y')\n",
    "\n",
    "plt.xlim(-300,300)\n",
    "plt.ylim(-300,300)"
   ]
  },
  {
   "cell_type": "markdown",
   "metadata": {},
   "source": [
    "**Интерпретация значений:** По красному вектору(вектор 1) фигура растягивается, по желтому сжимается.\n",
    "Причем растягивается фигура в 2.28 раз а сжимается в 0.22"
   ]
  },
  {
   "cell_type": "markdown",
   "metadata": {},
   "source": [
    "### Уровень 1:\n",
    "Найдите спектральное разложение матрицы:\n",
    "\n",
    "m = np.array([[1, 2],[2,3]])\n",
    "\n",
    "\n",
    "Постройте зависимость качества восстановления рукописных цифр (MNIST) в зависимости от различного количества компонент PCA. В качестве метрики различия предлагаю использовать MSE.*\n",
    "\n",
    "У PCA есть метод transform и inverse_transofrm. Первый - снижает размерность, второй - восстанавливает оригинальные данные с потерей информации. Надо посчитать насколько в среднем точно восстанавливается оригинальная картинка в зависимости от количества компонент в PCA.\n",
    "\n"
   ]
  },
  {
   "cell_type": "markdown",
   "metadata": {},
   "source": [
    "**Задание 1.** Спектральное разложение матрицы"
   ]
  },
  {
   "cell_type": "code",
   "execution_count": 28,
   "metadata": {
    "scrolled": true
   },
   "outputs": [
    {
     "name": "stdout",
     "output_type": "stream",
     "text": [
      "[[1 2]\n",
      " [2 3]]\n"
     ]
    }
   ],
   "source": [
    "m = np.array([[1, 2],[2,3]])\n",
    "print(m)"
   ]
  },
  {
   "cell_type": "code",
   "execution_count": 29,
   "metadata": {},
   "outputs": [
    {
     "name": "stdout",
     "output_type": "stream",
     "text": [
      "[[1. 2.]\n",
      " [2. 3.]]\n"
     ]
    }
   ],
   "source": [
    "# Получим собственные вектора и собственные значения матрицы\n",
    "w, v = np.linalg.eigh(m)\n",
    "\n",
    "# Получим матрицу D, диагональную матрицу, на главной диагонали которой, находяся собственные значения\n",
    "D = np.diag(w)\n",
    "\n",
    "# Получим матрицу S, которая является матрицей собственных векторов\n",
    "S = v\n",
    "\n",
    "# Запишем спектральное разложение\n",
    "A = S.T @ D @ S\n",
    "\n",
    "# Проверим результат\n",
    "print(A)"
   ]
  },
  {
   "cell_type": "markdown",
   "metadata": {},
   "source": [
    "**Задание 2.** Зависимость количества компонентов и точность восстановления картинки"
   ]
  },
  {
   "cell_type": "code",
   "execution_count": 15,
   "metadata": {
    "scrolled": true
   },
   "outputs": [
    {
     "name": "stdout",
     "output_type": "stream",
     "text": [
      "(1797, 64)\n"
     ]
    }
   ],
   "source": [
    "# Загружаем датасет с картинками и смотрим число компонентов\n",
    "from sklearn.datasets import load_digits\n",
    "digits = load_digits()\n",
    "print(digits.data.shape)"
   ]
  },
  {
   "cell_type": "code",
   "execution_count": 16,
   "metadata": {},
   "outputs": [],
   "source": [
    "from sklearn.decomposition import PCA"
   ]
  },
  {
   "cell_type": "code",
   "execution_count": 17,
   "metadata": {},
   "outputs": [],
   "source": [
    "from sklearn.metrics import mean_squared_error"
   ]
  },
  {
   "cell_type": "code",
   "execution_count": 18,
   "metadata": {},
   "outputs": [],
   "source": [
    "# Отбираем только картинки и преобразуем изображения в двухмерную форму\n",
    "\n",
    "img = digits.images\n",
    "shape = img.shape\n",
    "train = img.reshape((shape[0], shape[1] * shape[2]))"
   ]
  },
  {
   "cell_type": "code",
   "execution_count": 19,
   "metadata": {},
   "outputs": [],
   "source": [
    "# Просчитываем качество восстановления в зависимости от числа компонентов\n",
    "x = []\n",
    "y = []\n",
    "for i in range(0,65):\n",
    "    x += [i]\n",
    "    pca = PCA(n_components=i)\n",
    "    trans = pca.fit_transform(train)\n",
    "    res = pca.inverse_transform(trans)\n",
    "    y += [mean_squared_error(train, res)]"
   ]
  },
  {
   "cell_type": "code",
   "execution_count": 20,
   "metadata": {},
   "outputs": [
    {
     "data": {
      "text/plain": [
       "[<matplotlib.lines.Line2D at 0x1b650bb9250>]"
      ]
     },
     "execution_count": 20,
     "metadata": {},
     "output_type": "execute_result"
    },
    {
     "data": {
      "image/png": "[encoded data removed]",
      "text/plain": [
       "<Figure size 432x288 with 1 Axes>"
      ]
     },
     "metadata": {
      "needs_background": "light"
     },
     "output_type": "display_data"
    }
   ],
   "source": [
    "# Визуализируем результат\n",
    "plt.plot(x,y)"
   ]
  },
  {
   "cell_type": "markdown",
   "metadata": {},
   "source": [
    "**Вывод:** Зависимоть выражена экспонентой. При понижении числа компонентов до 50 изменений почти нет. При понижении до 30 изменения не значительны. При достижении 15 и ниже точность восстановления начинает очень быстро падать."
   ]
  }
 ],
 "metadata": {
  "kernelspec": {
   "display_name": "Python 3",
   "language": "python",
   "name": "python3"
  },
  "language_info": {
   "codemirror_mode": {
    "name": "ipython",
    "version": 3
   },
   "file_extension": ".py",
   "mimetype": "text/x-python",
   "name": "python",
   "nbconvert_exporter": "python",
   "pygments_lexer": "ipython3",
   "version": "3.8.5"
  }
 },
 "nbformat": 4,
 "nbformat_minor": 4
}
