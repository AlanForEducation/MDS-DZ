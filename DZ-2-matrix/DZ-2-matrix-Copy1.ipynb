{
 "cells": [
  {
   "cell_type": "markdown",
   "metadata": {},
   "source": [
    "### Уровень 0:\n",
    "- Создайте матрицу 3 на 3, заполненную числами от 1 до 9\n",
    "- Прибавьте к ней матрицу с единицами на диагонале\n",
    "- Умножьте полученную матрицу на вектор (1, 2, 3)\n",
    "- Посчитайте обратную матрицу к полученной матрице"
   ]
  },
  {
   "cell_type": "code",
   "execution_count": 8,
   "metadata": {},
   "outputs": [],
   "source": [
    "# Создание матрицы 3х3\n",
    "\n",
    "def m(i, j):\n",
    "    return 3*i + j + 1"
   ]
  },
  {
   "cell_type": "code",
   "execution_count": 9,
   "metadata": {},
   "outputs": [
    {
     "data": {
      "text/plain": [
       "array([[1., 2., 3.],\n",
       "       [4., 5., 6.],\n",
       "       [7., 8., 9.]])"
      ]
     },
     "execution_count": 9,
     "metadata": {},
     "output_type": "execute_result"
    }
   ],
   "source": [
    "A = np.fromfunction(m, (3, 3))\n",
    "A"
   ]
  },
  {
   "cell_type": "code",
   "execution_count": 11,
   "metadata": {},
   "outputs": [
    {
     "data": {
      "text/plain": [
       "array([[1., 0., 0.],\n",
       "       [0., 1., 0.],\n",
       "       [0., 0., 1.]])"
      ]
     },
     "execution_count": 11,
     "metadata": {},
     "output_type": "execute_result"
    }
   ],
   "source": [
    "B = np.eye(3)\n",
    "B"
   ]
  },
  {
   "cell_type": "code",
   "execution_count": 13,
   "metadata": {},
   "outputs": [
    {
     "data": {
      "text/plain": [
       "array([[ 2.,  2.,  3.],\n",
       "       [ 4.,  6.,  6.],\n",
       "       [ 7.,  8., 10.]])"
      ]
     },
     "execution_count": 13,
     "metadata": {},
     "output_type": "execute_result"
    }
   ],
   "source": [
    "C = A+B\n",
    "C"
   ]
  },
  {
   "cell_type": "code",
   "execution_count": 21,
   "metadata": {},
   "outputs": [
    {
     "name": "stdout",
     "output_type": "stream",
     "text": [
      "[15. 34. 53.]\n",
      "[[ 2.  4.  9.]\n",
      " [ 4. 12. 18.]\n",
      " [ 7. 16. 30.]]\n"
     ]
    }
   ],
   "source": [
    "V = np.array([1, 2, 3])\n",
    "N = np.dot(C, V)\n",
    "M = C * V\n",
    "print(N)\n",
    "print(M)"
   ]
  },
  {
   "cell_type": "code",
   "execution_count": 22,
   "metadata": {},
   "outputs": [
    {
     "data": {
      "text/plain": [
       "array([[-6.        , -2.        ,  3.        ],\n",
       "       [-0.5       ,  0.25      ,  0.        ],\n",
       "       [ 1.66666667,  0.33333333, -0.66666667]])"
      ]
     },
     "execution_count": 22,
     "metadata": {},
     "output_type": "execute_result"
    }
   ],
   "source": [
    "m = np.linalg.inv(M)\n",
    "m"
   ]
  },
  {
   "cell_type": "markdown",
   "metadata": {},
   "source": [
    "### Уровень 1:\n",
    "Дан объект в 2d пространстве.\n",
    "\n",
    "При помощи матричных операций выполните:\n",
    "\n",
    "- Уменьшить объект в два раза\n",
    "- Повернуть на 130 градусов\n",
    "- Отразить объект относительно прямой y=x\n",
    "- Выполнить смещение объекта и масштабирование (применить 2 матрицы трансформаций). \n",
    "- Смещение на (200, 300) и масштабирование на (0.5, 1.2)"
   ]
  },
  {
   "cell_type": "code",
   "execution_count": 21,
   "metadata": {},
   "outputs": [
    {
     "data": {
      "text/plain": [
       "(-200.0, 200.0)"
      ]
     },
     "execution_count": 21,
     "metadata": {},
     "output_type": "execute_result"
    },
    {
     "data": {
      "image/png": "[encoded data removed]",
      "text/plain": [
       "<Figure size 432x288 with 1 Axes>"
      ]
     },
     "metadata": {
      "needs_background": "light"
     },
     "output_type": "display_data"
    }
   ],
   "source": [
    "import numpy as np\n",
    "import matplotlib.pyplot as plt\n",
    "\n",
    "A = [\n",
    "[-100, -100, 1],\n",
    "[-100, 100, 1],\n",
    "[100, 100, 1],\n",
    "[0, 0, 1],\n",
    "[100, -100, 1],\n",
    "[-100, -100, 1]\n",
    "]\n",
    "\n",
    "A = np.array(A)\n",
    "x = A[:,0]\n",
    "y = A[:,1]\n",
    "\n",
    "plt.plot(x, y)\n",
    "plt.ylim([-200, 200])\n",
    "plt.xlim([-200, 200])"
   ]
  },
  {
   "cell_type": "code",
   "execution_count": 92,
   "metadata": {
    "scrolled": true
   },
   "outputs": [
    {
     "data": {
      "text/plain": [
       "(-200.0, 200.0)"
      ]
     },
     "execution_count": 92,
     "metadata": {},
     "output_type": "execute_result"
    },
    {
     "data": {
      "image/png": "[encoded data removed]",
      "text/plain": [
       "<Figure size 432x288 with 1 Axes>"
      ]
     },
     "metadata": {
      "needs_background": "light"
     },
     "output_type": "display_data"
    }
   ],
   "source": [
    "# Уменьшение в два раза\n",
    "plt.plot(x, y, c='r')\n",
    "plt.ylim([-200, 200])\n",
    "plt.xlim([-200, 200])\n",
    "\n",
    "\n",
    "A = np.array(A)\n",
    "\n",
    "B = np.array([[0.5,0,0,0,0,-2], [0,0.5,0,0,0,1], [0,0,0,0,0,0]])\n",
    "\n",
    "C = np.dot(A,B)\n",
    "x = C[:,0]\n",
    "y = C[:,1]\n",
    "\n",
    "plt.plot(x, y)\n",
    "plt.ylim([-200, 200])\n",
    "plt.xlim([-200, 200])"
   ]
  },
  {
   "cell_type": "code",
   "execution_count": 100,
   "metadata": {},
   "outputs": [
    {
     "name": "stdout",
     "output_type": "stream",
     "text": [
      "[[-0.64278761 -0.76604444 -0.64278761]\n",
      " [ 0.76604444 -0.64278761  0.76604444]\n",
      " [ 0.          0.          0.        ]]\n"
     ]
    },
    {
     "data": {
      "text/plain": [
       "(-200.0, 200.0)"
      ]
     },
     "execution_count": 100,
     "metadata": {},
     "output_type": "execute_result"
    },
    {
     "data": {
      "image/png": "[encoded data removed]",
      "text/plain": [
       "<Figure size 432x288 with 1 Axes>"
      ]
     },
     "metadata": {
      "needs_background": "light"
     },
     "output_type": "display_data"
    }
   ],
   "source": [
    "# Поворот на 130 градусов\n",
    "A = np.array(A)\n",
    "angle = np.radians(130)\n",
    "c, s = np.cos(angle), np.sin(angle)\n",
    "\n",
    "B = np.array([[c, -s, c], [s, c, s], [0,0,0]])\n",
    "\n",
    "print(B)\n",
    "\n",
    "C = np.dot(A, B)\n",
    "x = C[:,0]\n",
    "y = C[:,1]\n",
    "\n",
    "\n",
    "plt.plot(x, y)\n",
    "plt.ylim([-200, 200])\n",
    "plt.xlim([-200, 200])"
   ]
  },
  {
   "cell_type": "code",
   "execution_count": 58,
   "metadata": {},
   "outputs": [
    {
     "name": "stdout",
     "output_type": "stream",
     "text": [
      "[-100 -100  100    0  100 -100] [-100  100  100    0 -100 -100]\n"
     ]
    },
    {
     "data": {
      "image/png": "[encoded data removed]",
      "text/plain": [
       "<Figure size 432x288 with 1 Axes>"
      ]
     },
     "metadata": {
      "needs_background": "light"
     },
     "output_type": "display_data"
    }
   ],
   "source": [
    "A = [\n",
    "[-100, -100, 1],\n",
    "[-100, 100, 1],\n",
    "[100, 100, 1],\n",
    "[0, 0, 1],\n",
    "[100, -100, 1],\n",
    "[-100, -100, 1]\n",
    "]\n",
    "\n",
    "A = np.array(A)\n",
    "x = A[:,0]\n",
    "y = A[:,1]\n",
    "\n",
    "plt.plot(x, y)\n",
    "plt.ylim([-200, 200])\n",
    "plt.xlim([-200, 200])\n",
    "\n",
    "print(x,y)"
   ]
  },
  {
   "cell_type": "code",
   "execution_count": 120,
   "metadata": {},
   "outputs": [
    {
     "name": "stdout",
     "output_type": "stream",
     "text": [
      "[[-100 -100    1]\n",
      " [-100  100    1]\n",
      " [ 100  100    1]\n",
      " [   0    0    1]\n",
      " [ 100 -100    1]\n",
      " [-100 -100    1]]\n",
      "[[  1   0]\n",
      " [  0   1]\n",
      " [200 300]]\n",
      "[[100 200]\n",
      " [100 400]\n",
      " [300 400]\n",
      " [200 300]\n",
      " [300 200]\n",
      " [100 200]]\n",
      "[100 100 300 200 300 100] [200 400 400 300 200 200]\n"
     ]
    },
    {
     "data": {
      "text/plain": [
       "(0.0, 400.0)"
      ]
     },
     "execution_count": 120,
     "metadata": {},
     "output_type": "execute_result"
    },
    {
     "data": {
      "image/png": "[encoded data removed]",
      "text/plain": [
       "<Figure size 432x288 with 1 Axes>"
      ]
     },
     "metadata": {
      "needs_background": "light"
     },
     "output_type": "display_data"
    }
   ],
   "source": [
    "\n",
    "A = np.array(A)\n",
    "\n",
    "# B = np.array([[1.2,0,0], [0,1.2,0], [0,0,0]])\n",
    "\n",
    "# B = np.array([[0, 1, 0], [1, 0, 0], [0, 0, 0]])\n",
    "\n",
    "B = np.array([[1,0],[0,1],[200,300]])\n",
    "D = np.array([[1.2,1],[1,1]])\n",
    "print(A)\n",
    "print(B)\n",
    "C = np.dot(A,B)\n",
    "C = np.dot(C,D)\n",
    "x = C[:,0]\n",
    "y = C[:,1]\n",
    "print(C)\n",
    "print(x,y)\n",
    "\n",
    "plt.plot(x, y)\n",
    "plt.ylim([100, 500])\n",
    "plt.xlim([0, 400])"
   ]
  },
  {
   "cell_type": "code",
   "execution_count": 39,
   "metadata": {},
   "outputs": [
    {
     "name": "stdout",
     "output_type": "stream",
     "text": [
      "[[-100 -100    1]\n",
      " [-100  100    1]\n",
      " [ 100  100    1]\n",
      " [   0    0    1]\n",
      " [ 100 -100    1]\n",
      " [-100 -100    1]]\n",
      "[[  1   0   0]\n",
      " [  0   1   0]\n",
      " [200 300   0]]\n",
      "[[100 200   0]\n",
      " [100 400   0]\n",
      " [300 400   0]\n",
      " [200 300   0]\n",
      " [300 200   0]\n",
      " [100 200   0]]\n",
      "[[0.5 0.  0. ]\n",
      " [0.  1.2 0. ]\n",
      " [1.  1.  1. ]]\n",
      "[[ 50. 240.   0.]\n",
      " [ 50. 480.   0.]\n",
      " [150. 480.   0.]\n",
      " [100. 360.   0.]\n",
      " [150. 240.   0.]\n",
      " [ 50. 240.   0.]]\n",
      "[ 50.  50. 150. 100. 150.  50.] [240. 480. 480. 360. 240. 240.]\n"
     ]
    },
    {
     "data": {
      "image/png": "[encoded data removed]",
      "text/plain": [
       "<Figure size 432x288 with 1 Axes>"
      ]
     },
     "metadata": {
      "needs_background": "light"
     },
     "output_type": "display_data"
    }
   ],
   "source": [
    "A = np.array(A)\n",
    "\n",
    "D = np.array([[0.5,0,0],[0,1.2,0],[1,1,1]])\n",
    "B = np.array([[1,0,0],[0,1,0],[200,300,0]])\n",
    "\n",
    "print(A)\n",
    "print(B)\n",
    "# Сначала применим матрицу масштабирования\n",
    "C = np.dot(A,B)\n",
    "print(C)\n",
    "print(D)\n",
    "# Потом применяем матрицу смещения (координаты смещения в матрице указаны с поправкой на масштаб)\n",
    "C = np.dot(C,D)\n",
    "print(C)\n",
    "\n",
    "x = C[:,0]\n",
    "y = C[:,1]\n",
    "\n",
    "\n",
    "\n",
    "plt.plot(x, y)\n",
    "plt.ylim([100, 500])\n",
    "plt.xlim([0, 300])\n",
    "\n",
    "print(x,y)"
   ]
  }
 ],
 "metadata": {
  "kernelspec": {
   "display_name": "Python 3",
   "language": "python",
   "name": "python3"
  },
  "language_info": {
   "codemirror_mode": {
    "name": "ipython",
    "version": 3
   },
   "file_extension": ".py",
   "mimetype": "text/x-python",
   "name": "python",
   "nbconvert_exporter": "python",
   "pygments_lexer": "ipython3",
   "version": "3.8.5"
  }
 },
 "nbformat": 4,
 "nbformat_minor": 4
}
